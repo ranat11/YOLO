{
 "cells": [
  {
   "cell_type": "code",
   "execution_count": null,
   "metadata": {},
   "outputs": [],
   "source": [
    "import torch\n",
    "import torch.optim as optim\n",
    "import torchvision.transforms as transforms\n",
    "from torch.utils.data import DataLoader\n",
    "from torch.utils.tensorboard import SummaryWriter\n",
    "\n",
    "from tqdm import tqdm\n",
    "import datetime\n",
    "\n",
    "from models import Yolov1\n",
    "from loss import YoloLoss\n",
    "from dataset import CreateDataset, Compose\n",
    "from utils import (intersection_over_union, non_max_suppression, mean_average_precision, \n",
    "                    plot_image, get_bboxes, convert_cellboxes, cellboxes_to_boxes, \n",
    "                    save_checkpoint, load_checkpoint)"
   ]
  },
  {
   "cell_type": "code",
   "execution_count": null,
   "metadata": {},
   "outputs": [],
   "source": [
    "labels = ['pipe', 'corner', 'flange', 'anode']"
   ]
  },
  {
   "cell_type": "code",
   "execution_count": null,
   "metadata": {},
   "outputs": [],
   "source": [
    "mean = 0.4732\n",
    "std = 0.1271\n",
    "\n",
    "transform = Compose([transforms.Resize((448, 448)), \n",
    "                    transforms.Grayscale(),\n",
    "                    transforms.ToTensor(),\n",
    "                    transforms.Normalize(mean, std),\n",
    "                    ]) "
   ]
  },
  {
   "cell_type": "code",
   "execution_count": null,
   "metadata": {},
   "outputs": [],
   "source": [
    "seed = 123\n",
    "torch.manual_seed(seed)\n",
    "DEVICE = \"cuda\" if torch.cuda.is_available else \"cpu\"\n",
    "\n",
    "# Hyperparameters \n",
    "IMG_SIZE = [1080, 1920]\n",
    "LEARNING_RATE = 2e-5\n",
    "BATCH_SIZE = 16 \n",
    "WEIGHT_DECAY = 0\n",
    "EPOCHS = 10\n",
    "NUM_WORKERS = 2\n",
    "PIN_MEMORY = True\n",
    "LOAD_MODEL = False\n",
    "LOAD_MODEL_FILE = \"model/all/default.pth\"\n",
    "IMG_DIR = \"datasets/images\"\n",
    "\n",
    "FILE_DIR =  \"datasets/info_all.json\"\n",
    "S=7\n",
    "B=2\n",
    "C=4"
   ]
  },
  {
   "cell_type": "code",
   "execution_count": null,
   "metadata": {},
   "outputs": [],
   "source": [
    "def train_fn(train_loader, model, optimizer, loss_fn, step, epoch, num_epochs):\n",
    "    loop = tqdm(train_loader, leave=True)\n",
    "    mean_loss = []\n",
    "\n",
    "    for batch_idx, (x, y) in enumerate(loop):\n",
    "        x, y = x.to(DEVICE), y.to(DEVICE)\n",
    "        out = model(x)\n",
    "        loss = loss_fn(out, y)\n",
    "        mean_loss.append(loss.item())\n",
    "\n",
    "        optimizer.zero_grad()\n",
    "        loss.backward()\n",
    "        \n",
    "        optimizer.step()\n",
    "\n",
    "        writer.add_scalar('Training Loss', loss, global_step=step)\n",
    "        step += 1\n",
    "\n",
    "        # update progress bar\n",
    "        loop.set_description(f\"Epoch [{epoch}/{num_epochs}]\")\n",
    "        loop.set_postfix(loss=loss.item())\n",
    "\n",
    "    print(f\"Mean loss was {sum(mean_loss)/len(mean_loss)}\")\n",
    "    scheduler.step(sum(mean_loss)/len(mean_loss))\n",
    "\n",
    "    return step"
   ]
  },
  {
   "cell_type": "code",
   "execution_count": null,
   "metadata": {},
   "outputs": [],
   "source": [
    "model = Yolov1(config=\"test2\", in_channels=1, split_size=S, num_boxes=B, num_classes=C).to(DEVICE)\n",
    "optimizer = optim.Adam(model.parameters(), lr=LEARNING_RATE, weight_decay=WEIGHT_DECAY)\n",
    "loss_fn = YoloLoss(split_size=S, num_boxes=B, num_classes=C)\n",
    "scheduler = torch.optim.lr_scheduler.ReduceLROnPlateau(optimizer, factor=0.1, patience=2, verbose=True)\n",
    "\n",
    "writer = SummaryWriter(f'logs/all/'+ datetime.datetime.now().strftime(\"%Y%m%d-%H%M%S\"))\n",
    "\n",
    "if LOAD_MODEL:\n",
    "    load_checkpoint(torch.load(LOAD_MODEL_FILE), model, optimizer)\n",
    "\n",
    "dataset = CreateDataset(file_dir=FILE_DIR, img_dir=IMG_DIR, img_size=IMG_SIZE, \n",
    "                        split_size=S, num_boxes=B, num_classes=C, \n",
    "                        box_format=\"coco\", bb_ratio=False, offset=1,\n",
    "                        transform=transform)\n",
    "train_dataset, val_dataset = torch.utils.data.random_split(dataset, [int(0.9*len(dataset)), len(dataset)-int(0.9*len(dataset))], generator=torch.Generator().manual_seed(42))\n",
    "train_loader = DataLoader(dataset=train_dataset, batch_size=BATCH_SIZE, num_workers=NUM_WORKERS, pin_memory=PIN_MEMORY, shuffle=True, drop_last=True)\n",
    "val_loader = DataLoader(dataset=val_dataset, batch_size=BATCH_SIZE, num_workers=NUM_WORKERS, pin_memory=PIN_MEMORY, shuffle=True, drop_last=True)"
   ]
  },
  {
   "cell_type": "code",
   "execution_count": null,
   "metadata": {},
   "outputs": [],
   "source": [
    "step = 0\n",
    "for epoch in range(EPOCHS):\n",
    "    for x, y in train_loader:\n",
    "\n",
    "        pred_boxes, target_boxes = get_bboxes(train_loader, model, iou_threshold=0.5, threshold=0.7, S=S, C=C)\n",
    "        mean_avg_prec = mean_average_precision(pred_boxes, target_boxes, iou_threshold=0.5, box_format=\"midpoint\")\n",
    "        step = train_fn(train_loader, model, optimizer, loss_fn, step, epoch, EPOCHS)\n",
    "\n",
    "        print(f\"Train mAP: {mean_avg_prec}\")\n",
    "        writer.add_scalar('mean average precision', mean_avg_prec, global_step=step)"
   ]
  },
  {
   "cell_type": "code",
   "execution_count": null,
   "metadata": {},
   "outputs": [],
   "source": [
    "print(\"saving model\")\n",
    "save_model = {\"state_dict\": model.state_dict(), \"optimizer\": optimizer.state_dict()}\n",
    "torch.save(save_model, \"model/all/default.pth\")"
   ]
  },
  {
   "cell_type": "markdown",
   "metadata": {},
   "source": []
  },
  {
   "cell_type": "code",
   "execution_count": null,
   "metadata": {},
   "outputs": [],
   "source": [
    "for x, y in val_loader:\n",
    "    x = x.to(DEVICE)\n",
    "    for idx in range(BATCH_SIZE):\n",
    "        bboxes = cellboxes_to_boxes(model(x), S=S, C=C)\n",
    "        bboxes = non_max_suppression(bboxes[idx], iou_threshold=0.5, threshold=0.4, box_format=\"midpoint\")\n",
    "        plot_image(x[idx].permute(1,2,0).to(\"cpu\"), bboxes, labels)\n",
    "    break"
   ]
  }
 ],
 "metadata": {
  "interpreter": {
   "hash": "ba94d1e0b1bb8596e1d3f0e4a021705ddc7d4c8dd5cd3a18bd9411dfbe1c89a4"
  },
  "kernelspec": {
   "display_name": "Python 3.8.8 64-bit ('sonenv': conda)",
   "name": "python3"
  },
  "language_info": {
   "codemirror_mode": {
    "name": "ipython",
    "version": 3
   },
   "file_extension": ".py",
   "mimetype": "text/x-python",
   "name": "python",
   "nbconvert_exporter": "python",
   "pygments_lexer": "ipython3",
   "version": "3.8.8"
  },
  "orig_nbformat": 4
 },
 "nbformat": 4,
 "nbformat_minor": 2
}
